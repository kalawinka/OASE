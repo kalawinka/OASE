{
 "cells": [
  {
   "cell_type": "code",
   "execution_count": 1,
   "metadata": {},
   "outputs": [],
   "source": [
    "#load libraries\n",
    "import pandas as pd \n",
    "import numpy as np "
   ]
  },
  {
   "cell_type": "code",
   "execution_count": 2,
   "metadata": {},
   "outputs": [],
   "source": [
    "#open csv file as dataframe\n",
    "df = pd.read_csv('raw_data/results_code_soc.csv')\n",
    "#choose only fully completed answers\n",
    "data = df[df['lastpage'] == 4.0]\n",
    "#reset inxdexes\n",
    "data = data.reset_index()"
   ]
  },
  {
   "cell_type": "code",
   "execution_count": null,
   "metadata": {},
   "outputs": [],
   "source": [
    "#choose relevant columns (only ones containing participant id and answers)\n",
    "data = data[['id','Country',\n",
    " 'Country[other]',\n",
    " 'Discipline[A1]',\n",
    " 'Discipline[A2]',\n",
    " 'Discipline[A3]',\n",
    " 'Discipline[A4]',\n",
    " 'Discipline[A5]',\n",
    " 'Discipline[A6]',\n",
    " 'Discipline[A7]',\n",
    " 'Discipline[A8]',\n",
    " 'Discipline[other]',\n",
    " 'Gender',\n",
    " 'CareerStatus',\n",
    " 'CareerStatus[other]',\n",
    " 'Institution',\n",
    " 'Institution[other]',\n",
    " 'NPublishedCor',\n",
    " 'PDepositedCor',\n",
    " 'CorSomeComparison[A1]',\n",
    " 'CorSomeComparison[A2]',\n",
    " 'CorSomeComparison[A3]',\n",
    " 'CorSomeComparison[A4]',\n",
    " 'CorSomeComparison[A5]',\n",
    " 'CorSomeComparison[A6]',\n",
    " 'CorSomeDeposited[A1]',\n",
    " 'CorSomeDeposited[A2]',\n",
    " 'CorSomeDeposited[A3]',\n",
    " 'CorSomeDeposited[A4]',\n",
    " 'CorSomeDeposited[A5]',\n",
    " 'CorSomeDeposited[A6]',\n",
    " 'CorSomeDeposited[A7]',\n",
    " 'CorSomeDeposited[A8]',\n",
    " 'CorSomeDeposited[A9]',\n",
    " 'CorSomeDeposited[A10]',\n",
    " 'CorSomeDeposited[A11]',\n",
    " 'CorSomeDeposited[A12]',\n",
    " 'CorSomeDeposited[A13]',\n",
    " 'CorAllDeposited[A1]',\n",
    " 'CorAllDeposited[A2]',\n",
    " 'CorAllDeposited[A3]',\n",
    " 'CorAllDeposited[A4]',\n",
    " 'CorAllDeposited[A5]',\n",
    " 'CorAllDeposited[A6]',\n",
    " 'CorAllDeposited[A7]',\n",
    " 'CorAllDeposited[A8]',\n",
    " 'CorAllDeposited[A9]',\n",
    " 'CorAllDeposited[A10]',\n",
    " 'CorAllDeposited[A11]',\n",
    " 'CorAllDeposited[A12]',\n",
    " 'CorAllDeposited[A13]',\n",
    " 'CorSomeNotDeposited[A1]',\n",
    " 'CorSomeNotDeposited[A2]',\n",
    " 'CorSomeNotDeposited[A3]',\n",
    " 'CorSomeNotDeposited[A4]',\n",
    " 'CorSomeNotDeposited[A5]',\n",
    " 'CorSomeNotDeposited[A6]',\n",
    " 'CorSomeNotDeposited[A7]',\n",
    " 'CorSomeNotDeposited[A8]',\n",
    " 'CorSomeNotDeposited[A9]',\n",
    " 'CorNoneNotDeposited[A1]',\n",
    " 'CorNoneNotDeposited[A2]',\n",
    " 'CorNoneNotDeposited[A3]',\n",
    " 'CorNoneNotDeposited[A4]',\n",
    " 'CorNoneNotDeposited[A5]',\n",
    " 'CorNoneNotDeposited[A6]',\n",
    " 'CorNoneNotDeposited[A7]',\n",
    " 'CorNoneNotDeposited[A8]',\n",
    " 'CorNoneNotDeposited[A9]']]\n"
   ]
  },
  {
   "cell_type": "code",
   "execution_count": null,
   "metadata": {},
   "outputs": [],
   "source": [
    "#CLEAN COUNTRY\n",
    "#combine Country and Country[other] columns in one\n",
    "cntr2 = data['Country[other]'] #choose Country[other] column\n",
    "ind_cntr = data.index[data['Country'] == 'Other'].tolist() #find indexes of cells in the Country column, where value is other\n",
    "cntr2 = cntr2.fillna(value='Other') #fill empty cell in Country[other] column with other\n",
    "#replace cells containung other in the column Country with the corresponding values from the column Country[other]\n",
    "for k in ind_cntr:\n",
    "    data['Country'].iloc[k] = cntr2.iloc[k]\n",
    "data = data.drop(['Country[other]'], axis=1) #delete Country[other] column\n",
    "data['Country'] = data['Country'].str.strip()#delete whitespaces from beginning and end of the string "
   ]
  },
  {
   "cell_type": "code",
   "execution_count": null,
   "metadata": {},
   "outputs": [],
   "source": [
    "#CLEAN DISCIPLINE \n",
    "#prepare data\n",
    "columns = ['Discipline[A1]',\n",
    " 'Discipline[A2]',\n",
    " 'Discipline[A3]',\n",
    " 'Discipline[A4]',\n",
    " 'Discipline[A5]',\n",
    " 'Discipline[A6]',\n",
    " 'Discipline[A7]',\n",
    " 'Discipline[A8]']\n",
    "disc = data[columns]\n",
    "#replace No with null \n",
    "disc.mask(disc == 'No', np.nan, inplace=True)\n",
    "#list discipline names\n",
    "d_list = ['Arts and Humanities','Business, Management and Accounting','Decision Sciences','Economics, Econometrics and Finance','Multidisciplinary','Psychology','Social Sciences','Prefer not to say']\n",
    "\n",
    "#replace yes with the name of discipline\n",
    "for i,e in zip(columns, d_list):\n",
    "    disc[i].mask(disc[i] == 'Yes', e, inplace=True)\n",
    "    disc[i] = disc[i].str.strip()#delete whitespaces from beginning and end of the string \n",
    "    disc[i] = disc[i].str.capitalize()#capitalize entries\n",
    "#capitalize Discipline[other] entries\n",
    "data[\"Discipline[other]\"] = data[\"Discipline[other]\"].str.capitalize()\n",
    "#replace data discipline columns with the cleaned values\n",
    "data[columns] = disc\n"
   ]
  },
  {
   "cell_type": "code",
   "execution_count": null,
   "metadata": {},
   "outputs": [],
   "source": [
    "#CLEAN CAREER STATUS\n",
    "ind = data.index[data['CareerStatus'] == 'Other'].tolist() #find indexes of cells in the CareerStatus column, where value is other\n",
    "data['CareerStatus[other]'] = data['CareerStatus[other]'].fillna(value='Other')#fill empty cell in CareerStatus[other] column with other\n",
    "#replace cells containung other in the column CareerStatus with the corresponding values from the column CareerStatus[other]\n",
    "for i in ind:\n",
    "    data['CareerStatus'].iloc[i] = data['CareerStatus[other]'].iloc[i]\n",
    "\n",
    "data = data.drop(['CareerStatus[other]'], axis=1)#delete CareerStatus[other] column\n",
    "data['CareerStatus'] = data['CareerStatus'].str.capitalize()#capitalize CareerStatus entries\n",
    "\n",
    "df_codes = pd.read_csv('soc_career_normalization.csv')#open csv file with the career normalization\n",
    "old = df_codes['row data'].to_list()#convert column with the original values to list\n",
    "code = df_codes['new title'].to_list()#convert column with the new values to list\n",
    "#replace old values with the new ones\n",
    "for i, j in zip (old, code):\n",
    "    data['CareerStatus'].mask(data['CareerStatus'] == i, j, inplace=True)\n",
    "data['CareerStatus'] = data['CareerStatus'].str.strip()#delete whitespaces from beginning and end of the string"
   ]
  },
  {
   "cell_type": "code",
   "execution_count": null,
   "metadata": {},
   "outputs": [],
   "source": [
    "#CLEAN INSTITUTION TYPE\n",
    "#prepare data\n",
    "ind2 = data.index[data['Institution'] == 'Other'].tolist() #find indexes of cells in the Institution column, where value is other\n",
    "data['Institution[other]'] = data['Institution[other]'].fillna(value='Other')#fill empty cell in Institution[other] column with other\n",
    "#replace cells containung other in the column Institution with the corresponding values from the column Institution[other]\n",
    "for k in ind2:\n",
    "    data['Institution'].iloc[k] = data['Institution[other]'].iloc[k]\n",
    "data = data.drop(['Institution[other]'], axis=1)#delete Institution[other] column\n",
    "data['Institution'] = data['Institution'].str.capitalize()#capitalize Institution entries\n",
    "df_codes = pd.read_csv('soc_institution_normalization.csv')#open csv file with the institution type normalization\n",
    "old = df_codes['row data'].to_list()#convert column with the original values to list\n",
    "code = df_codes['new title'].to_list()#convert column with the new values to list\n",
    "#replace old values with the new ones\n",
    "for i, j in zip (old, code):\n",
    "    data['Institution'].mask(data['Institution'] == i, j, inplace=True)\n",
    "data['Institution'] =  data['Institution'].str.strip()#delete whitespaces from beginning and end of the string"
   ]
  },
  {
   "cell_type": "code",
   "execution_count": null,
   "metadata": {},
   "outputs": [],
   "source": [
    "# DEFINE SOUTH AND NORTH REGIONS\n",
    "country_mapping = pd.read_excel('countries_mapping.csv')\n",
    "merged = data.merge(country_mapping, how = 'inner', on = 'Country')"
   ]
  },
  {
   "cell_type": "code",
   "execution_count": null,
   "metadata": {},
   "outputs": [],
   "source": [
    "merged.to_csv('soc_cleaned.csv', index = False)"
   ]
  }
 ],
 "metadata": {
  "kernelspec": {
   "display_name": "Python 3.8.3 64-bit ('base': conda)",
   "name": "python383jvsc74a57bd0c5d5a2fab6b62cd8a49df8fcfee3c7f2325d2a7869cd47693d3d93304865e371"
  },
  "language_info": {
   "codemirror_mode": {
    "name": "ipython",
    "version": 3
   },
   "file_extension": ".py",
   "mimetype": "text/x-python",
   "name": "python",
   "nbconvert_exporter": "python",
   "pygments_lexer": "ipython3",
   "version": "3.8.3"
  },
  "orig_nbformat": 2
 },
 "nbformat": 4,
 "nbformat_minor": 2
}
